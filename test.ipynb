{
 "cells": [
  {
   "cell_type": "code",
   "execution_count": 1,
   "metadata": {},
   "outputs": [],
   "source": [
    "import os\n",
    "import sys\n",
    "import torch\n",
    "import matplotlib.pyplot as plt\n",
    "import torchvision as tv\n",
    "import torchvision.transforms as transforms\n",
    "import torch.nn as nn\n",
    "import torch.nn.functional as F\n",
    "from torch.autograd import Variable\n",
    "from torchvision.utils import save_image\n",
    "\n",
    "\n",
    "\n",
    "sys.path.insert(0, './lib/')\n",
    "from MovingMNIST import MovingMNIST"
   ]
  },
  {
   "cell_type": "code",
   "execution_count": 46,
   "metadata": {},
   "outputs": [
    {
     "name": "stdout",
     "output_type": "stream",
     "text": [
      "==>>> total trainning batch number: 90\n",
      "==>>> total testing batch number: 10\n",
      "--- Sample\n",
      "Input:   torch.Size([100, 10, 64, 64])\n",
      "Target:  torch.Size([100, 10, 64, 64])\n"
     ]
    }
   ],
   "source": [
    "root = './data'\n",
    "if not os.path.exists(root):\n",
    "    os.mkdir(root)\n",
    "\n",
    "transform = transforms.Compose([transforms.Normalize((0), (255))])\n",
    "# transform = None\n",
    "\n",
    "train_set = MovingMNIST.MovingMNIST(root='.data/mnist', train=True, download=True, transform=transform)\n",
    "test_set = MovingMNIST.MovingMNIST(root='.data/mnist', train=False, download=True, transform=transform)\n",
    "\n",
    "batch_size = 100\n",
    "\n",
    "train_loader = torch.utils.data.DataLoader(\n",
    "                 dataset=train_set,\n",
    "                 batch_size=batch_size,\n",
    "                 shuffle=True)\n",
    "test_loader = torch.utils.data.DataLoader(\n",
    "                dataset=test_set,\n",
    "                batch_size=batch_size,\n",
    "                shuffle=False)\n",
    "\n",
    "print('==>>> total trainning batch number: {}'.format(len(train_loader)))\n",
    "print('==>>> total testing batch number: {}'.format(len(test_loader)))\n",
    "\n",
    "for seq, seq_target in train_loader:\n",
    "    print('--- Sample')\n",
    "    print('Input:  ', seq.shape)\n",
    "    print('Target: ', seq_target.shape)\n",
    "    break"
   ]
  },
  {
   "cell_type": "code",
   "execution_count": 47,
   "metadata": {},
   "outputs": [
    {
     "data": {
      "image/png": "[encoded data removed]",
      "text/plain": [
       "<Figure size 1440x576 with 10 Axes>"
      ]
     },
     "metadata": {
      "needs_background": "light"
     },
     "output_type": "display_data"
    }
   ],
   "source": [
    "seq, seq_target = next(iter(train_loader))\n",
    "fig=plt.figure(figsize=(20, 8))\n",
    "\n",
    "for i in range(1, 11):\n",
    "    img = seq[0][i-1]\n",
    "    fig.add_subplot(1, 10, i)\n",
    "    plt.imshow(img)"
   ]
  },
  {
   "cell_type": "code",
   "execution_count": 48,
   "metadata": {},
   "outputs": [
    {
     "name": "stdout",
     "output_type": "stream",
     "text": [
      "1.0\n",
      "tensor([0.0000, 0.0000, 0.0000, 0.0000, 0.0000, 0.0000, 0.0000, 0.0000, 0.0000,\n",
      "        0.0000, 0.0000, 0.0000, 0.0000, 0.0000, 0.0000, 0.0000, 0.0000, 0.3569,\n",
      "        0.9765, 0.9922, 0.9922, 0.9922, 0.8275, 0.9922, 0.9922, 0.9922, 0.6863,\n",
      "        0.8471, 0.6824, 0.6824, 0.9294, 0.9922, 0.9922, 0.8941, 0.5137, 0.0000,\n",
      "        0.0000, 0.0000, 0.0000, 0.0000, 0.0000, 0.0000, 0.0000, 0.0000, 0.0000,\n",
      "        0.0000, 0.0000, 0.0000, 0.0000, 0.0000, 0.0000, 0.0000, 0.0000, 0.0000,\n",
      "        0.0000, 0.0000, 0.0000, 0.0000, 0.0000, 0.0000, 0.0000, 0.0000, 0.0000,\n",
      "        0.0000])\n"
     ]
    }
   ],
   "source": [
    "import numpy as np\n",
    "print(np.max(np.array(seq[0][0])))\n",
    "print(seq[0][0][20])"
   ]
  },
  {
   "cell_type": "code",
   "execution_count": 49,
   "metadata": {},
   "outputs": [],
   "source": [
    "# Writing our model\n",
    "\n",
    "class Autoencoder(nn.Module):\n",
    "    def __init__(self):\n",
    "        super(Autoencoder,self).__init__()\n",
    "        \n",
    "        self.encoder = nn.Sequential(\n",
    "            nn.Conv2d(10, 5, kernel_size=5),\n",
    "            nn.ReLU(True),\n",
    "            nn.Conv2d(5,16,kernel_size=5),\n",
    "            nn.ReLU(True))\n",
    "        self.decoder = nn.Sequential(             \n",
    "            nn.ConvTranspose2d(16,5,kernel_size=5),\n",
    "            nn.ReLU(True),\n",
    "            nn.ConvTranspose2d(5,10,kernel_size=5),\n",
    "            nn.ReLU(True))\n",
    "    def forward(self,x):\n",
    "        x = self.encoder(x)\n",
    "        x = self.decoder(x)\n",
    "        return x"
   ]
  },
  {
   "cell_type": "code",
   "execution_count": null,
   "metadata": {},
   "outputs": [
    {
     "name": "stdout",
     "output_type": "stream",
     "text": [
      "epoch [1/25], loss:0.0356\n",
      "epoch [2/25], loss:0.0347\n",
      "epoch [3/25], loss:0.0352\n",
      "epoch [4/25], loss:0.0333\n",
      "epoch [5/25], loss:0.0341\n",
      "epoch [6/25], loss:0.0336\n",
      "epoch [7/25], loss:0.0348\n"
     ]
    }
   ],
   "source": [
    "#defining some params\n",
    "num_epochs = 25 #you can go for more epochs, I am using a mac\n",
    "\n",
    "model = Autoencoder()\n",
    "model.cuda()\n",
    "distance = nn.MSELoss()\n",
    "optimizer = torch.optim.Adam(model.parameters(),weight_decay=1e-5)\n",
    "\n",
    "for epoch in range(num_epochs):\n",
    "    for step, data in enumerate(train_loader):\n",
    "        seq, target = data\n",
    "        seq = seq.cuda()\n",
    "        target = target.cuda()\n",
    "        seq = Variable(seq)\n",
    "        # ===================forward=====================\n",
    "        output = model(seq)\n",
    "        loss = distance(output, target)\n",
    "        # ===================backward====================\n",
    "        optimizer.zero_grad()\n",
    "        loss.backward()\n",
    "        optimizer.step()\n",
    "    # ===================log========================\n",
    "    print('epoch [{}/{}], loss:{:.4f}'.format(epoch+1, num_epochs, float(loss.data)))\n",
    "\n"
   ]
  },
  {
   "cell_type": "code",
   "execution_count": null,
   "metadata": {},
   "outputs": [],
   "source": [
    "seq, seq_target = next(iter(train_loader))\n",
    "\n",
    "fig=plt.figure(figsize=(20, 8))\n",
    "\n",
    "for i in range(1, 11):\n",
    "    img = seq_target[0][i-1]\n",
    "    fig.add_subplot(1, 10, i)\n",
    "    plt.imshow(img)\n",
    "\n",
    "\n",
    "output = model(seq.cuda())\n",
    "fig=plt.figure(figsize=(20, 8))\n",
    "\n",
    "for i in range(1, 11):\n",
    "    img = output[0][i-1].cpu().detach().numpy()\n",
    "    fig.add_subplot(1, 10, i)\n",
    "    plt.imshow(img)\n"
   ]
  }
 ],
 "metadata": {
  "kernelspec": {
   "display_name": "Python 3",
   "language": "python",
   "name": "python3"
  },
  "language_info": {
   "codemirror_mode": {
    "name": "ipython",
    "version": 3
   },
   "file_extension": ".py",
   "mimetype": "text/x-python",
   "name": "python",
   "nbconvert_exporter": "python",
   "pygments_lexer": "ipython3",
   "version": "3.7.7"
  }
 },
 "nbformat": 4,
 "nbformat_minor": 4
}
